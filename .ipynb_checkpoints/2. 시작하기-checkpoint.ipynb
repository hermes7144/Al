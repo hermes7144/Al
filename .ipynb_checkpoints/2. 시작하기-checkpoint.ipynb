{
 "cells": [
  {
   "cell_type": "code",
   "execution_count": 107,
   "metadata": {},
   "outputs": [],
   "source": [
    "#삽입 정렬"
   ]
  },
  {
   "cell_type": "code",
   "execution_count": 117,
   "metadata": {
    "scrolled": false
   },
   "outputs": [],
   "source": [
    "A = [5, 2, 4, 6, 1, 3];\n",
    "for j in range(1, len(A)):\n",
    "    key = A[j]\n",
    "    # A[j]를 정렬된 배열 A[1..j - 1]에 삽입한다.\n",
    "    i = j - 1\n",
    "    while i > -1 and A[i] > key:\n",
    "        A[i + 1] = A[i]\n",
    "        i = i - 1\n",
    "    A[i +1] = key"
   ]
  },
  {
   "cell_type": "code",
   "execution_count": 109,
   "metadata": {},
   "outputs": [],
   "source": [
    "#내림 정렬"
   ]
  },
  {
   "cell_type": "code",
   "execution_count": 114,
   "metadata": {},
   "outputs": [
    {
     "data": {
      "text/plain": [
       "[6, 5, 4, 3, 2, 1]"
      ]
     },
     "execution_count": 114,
     "metadata": {},
     "output_type": "execute_result"
    }
   ],
   "source": [
    "#2.1-2\n",
    "A = [5, 2, 4, 6, 1, 3];\n",
    "for j in range(1, len(A)):\n",
    "    key = A[j]\n",
    "    # A[j]를 정렬된 배열 A[1..j - 1]에 삽입한다.\n",
    "    i = j - 1\n",
    "    while i > -1 and A[i] < key:\n",
    "        A[i + 1] = A[i]\n",
    "        i = i - 1\n",
    "    A[i +1] = key\n",
    "A"
   ]
  },
  {
   "cell_type": "markdown",
   "metadata": {},
   "source": [
    "### 2.3.1 분할정복 접근법"
   ]
  },
  {
   "cell_type": "markdown",
   "metadata": {},
   "source": [
    "#### 이 알고리즘에서는 주어진 문제를 풀기 위해 자기 자신을 재귀적으로 여러 번 호출함으로써 밀접하게 연관된 부분 문제를 다룬다."
   ]
  },
  {
   "cell_type": "markdown",
   "metadata": {},
   "source": [
    "#### 분할정복은 재귀 호출을 하는 각 단에서 다음 세 가지 단계로 구성된다."
   ]
  },
  {
   "cell_type": "markdown",
   "metadata": {},
   "source": [
    "#### 분할: 현재의 문제를 같은 문제를 다루는 다수의 부분 문제로 분할한다.\n",
    "#### 정복: 부분 문제를 재귀적으로 풀어서 정복한다. 부분 문제의 크기가 충분히 작으면 직접적인 방법으로 푼다.\n",
    "#### 결합: 부분 문제의 해를 결합하여 원래 문제의 해가 되도록 만든다."
   ]
  },
  {
   "cell_type": "code",
   "execution_count": null,
   "metadata": {},
   "outputs": [],
   "source": []
  },
  {
   "cell_type": "code",
   "execution_count": null,
   "metadata": {},
   "outputs": [],
   "source": []
  },
  {
   "cell_type": "code",
   "execution_count": null,
   "metadata": {},
   "outputs": [],
   "source": []
  },
  {
   "cell_type": "code",
   "execution_count": null,
   "metadata": {},
   "outputs": [],
   "source": []
  },
  {
   "cell_type": "code",
   "execution_count": null,
   "metadata": {},
   "outputs": [],
   "source": []
  },
  {
   "cell_type": "code",
   "execution_count": null,
   "metadata": {},
   "outputs": [],
   "source": []
  }
 ],
 "metadata": {
  "kernelspec": {
   "display_name": "Python 3",
   "language": "python",
   "name": "python3"
  },
  "language_info": {
   "codemirror_mode": {
    "name": "ipython",
    "version": 3
   },
   "file_extension": ".py",
   "mimetype": "text/x-python",
   "name": "python",
   "nbconvert_exporter": "python",
   "pygments_lexer": "ipython3",
   "version": "3.8.5"
  }
 },
 "nbformat": 4,
 "nbformat_minor": 4
}
