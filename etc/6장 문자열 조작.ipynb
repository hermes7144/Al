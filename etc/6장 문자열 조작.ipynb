{
 "cells": [
  {
   "cell_type": "code",
   "execution_count": 2,
   "metadata": {},
   "outputs": [],
   "source": [
    "from collections import deque\n",
    "import re\n",
    "# 유효한 팰린드롬\n",
    "s = \"A man, a plan, a canal: Panama\"\n",
    "\n",
    "class Solution:\n",
    "    strs = []\n",
    "    #리스트로 변환\n",
    "    def isPalindrom(self, s:str) -> bool:\n",
    "        for char in s:\n",
    "            if char.isalnum():\n",
    "                strs.append(char.lower())\n",
    "        # 팰린드롬 여부 판별\n",
    "        while len(strs) > 1:\n",
    "            if strs.pop(0) != strs.pop():\n",
    "                return False\n",
    "            return True\n",
    "    # 데크 자료형을 이용한 최적화\n",
    "    def isPalindrom2(self, s:str) -> bool:\n",
    "        # 자료형 데크로 선언\n",
    "        strs: Deque = deque()\n",
    "        for char in s:\n",
    "            if char.isalnum():\n",
    "                strs.append(char.lower())\n",
    "    # 슬라이싱 사용\n",
    "    def isPalindrom3(self, s:str) -> bool:\n",
    "        s = s.lower()\n",
    "        # 정규식에서 불필요한 문자 필터링\n",
    "        s = re.sub('[^a-z0-9]','',s)\n",
    "        \n",
    "        return s== s[::-1]"
   ]
  },
  {
   "cell_type": "code",
   "execution_count": 3,
   "metadata": {},
   "outputs": [],
   "source": [
    "# 파이썬 isalnum() : 문자열이 알파벳([a-zA-Z])과 숫자([0-9])로만 구성되었는지 확인하는 파이썬 문자열 메소드"
   ]
  },
  {
   "cell_type": "code",
   "execution_count": 4,
   "metadata": {},
   "outputs": [],
   "source": [
    "# 정규식 공부"
   ]
  },
  {
   "cell_type": "code",
   "execution_count": 5,
   "metadata": {},
   "outputs": [],
   "source": [
    "T =  Solution()"
   ]
  },
  {
   "cell_type": "code",
   "execution_count": 6,
   "metadata": {},
   "outputs": [
    {
     "data": {
      "text/plain": [
       "True"
      ]
     },
     "execution_count": 6,
     "metadata": {},
     "output_type": "execute_result"
    }
   ],
   "source": [
    "T.isPalindrom3(s)"
   ]
  },
  {
   "cell_type": "code",
   "execution_count": 37,
   "metadata": {},
   "outputs": [],
   "source": [
    "# 2 문자열 뒤집기\n",
    "# 문자열을 뒤집는 함수를 작성하라. 입력값은 문자 배열이며, 리턴 없이 리스트 내부를 직접 조작하라.\n",
    "from typing import List\n",
    "\n",
    "# 투포인터를 이용한 스왑\n",
    "s = ['h','e','l','l','o']\n",
    "def reverseString(s: List[str]) -> None:\n",
    "    left, right = 0, len(s) - 1\n",
    "    while left < right:\n",
    "        s[left], s[right] = s[right], s[left]\n",
    "        left += 1\n",
    "        right -= 1"
   ]
  },
  {
   "cell_type": "code",
   "execution_count": 38,
   "metadata": {},
   "outputs": [],
   "source": [
    "reverseString(s)"
   ]
  },
  {
   "cell_type": "code",
   "execution_count": 39,
   "metadata": {},
   "outputs": [
    {
     "data": {
      "text/plain": [
       "['o', 'l', 'l', 'e', 'h']"
      ]
     },
     "execution_count": 39,
     "metadata": {},
     "output_type": "execute_result"
    }
   ],
   "source": [
    "s"
   ]
  },
  {
   "cell_type": "code",
   "execution_count": 40,
   "metadata": {},
   "outputs": [],
   "source": [
    "def reverseStirng(s: List[str]) -> None:\n",
    "    s.reverse()"
   ]
  },
  {
   "cell_type": "code",
   "execution_count": 41,
   "metadata": {},
   "outputs": [],
   "source": [
    "reverseStirng(s)"
   ]
  },
  {
   "cell_type": "markdown",
   "metadata": {},
   "source": [
    "### 3. 로그파일 재정렬\n",
    "#### 로그를 재정렬하라. 기준은 다음과 같다.\n",
    "1. 로그의 가장 앞 부분은 식별자다.\n",
    "2. 문자로 구성된 로그가 숫자 로그보다 앞에 온다.\n",
    "3. 식별자는 순서에 영향을 미치지 않지만 문자가 동일할 경우 식별자 순으로 한다.\n",
    "4. 숫자 로그는 입력 순서대로 한다."
   ]
  },
  {
   "cell_type": "code",
   "execution_count": 26,
   "metadata": {},
   "outputs": [],
   "source": [
    "\n",
    "from typing import List\n",
    "logs = [\"dig1 8 1 5 1\",\"let1 art can\",\"dig2 3 6\",\"let2 own kit dig\",\"let3 art zero\"]\n",
    "# 풀이1 람다와 + 연산자를 이용\n",
    "class Solution:\n",
    "    def reorderLogFiles(self, logs: List[str]) -> List[str]:\n",
    "        letters, digits = [], []\n",
    "        for log in logs:\n",
    "            # 로그의 가장 앞부분은 식별자 이므로 [1부터]\n",
    "            if log.split()[1].isdigit():\n",
    "                digits.append(log)\n",
    "            else:\n",
    "                letters.append(log)\n",
    "            \n",
    "            # 2개의 키를 람다 표현식으로 표현\n",
    "            letters.sort(key=lambda x: (x.split()[1:], x.split()[0]))\n",
    "            return letters + digits"
   ]
  },
  {
   "cell_type": "code",
   "execution_count": 35,
   "metadata": {},
   "outputs": [],
   "source": [
    "logs = [\"dig1 8 1 5 1\",\"let1 art can\",\"dig2 3 6\",\"let2 own kit dig\",\"let3 art zero\"]"
   ]
  },
  {
   "cell_type": "code",
   "execution_count": 38,
   "metadata": {},
   "outputs": [],
   "source": [
    "from typing import List\n",
    "\n",
    "\n",
    "class Solution:\n",
    "    def reorderLogFiles(logs: List[str]) -> List[str]:\n",
    "        letters, digits = [], []\n",
    "        for log in logs:\n",
    "            if log.split()[1].isdigit():\n",
    "                digits.append(log)\n",
    "            else:\n",
    "                letters.append(log)\n",
    "\n",
    "        # 두 개의 키를 람다 표현식으로 정렬\n",
    "        letters.sort(key=lambda x: (x.split()[1:], x.split()[0]))\n",
    "        return letters + digits\n"
   ]
  },
  {
   "cell_type": "code",
   "execution_count": 39,
   "metadata": {},
   "outputs": [
    {
     "data": {
      "text/plain": [
       "['let1 art can',\n",
       " 'let3 art zero',\n",
       " 'let2 own kit dig',\n",
       " 'dig1 8 1 5 1',\n",
       " 'dig2 3 6']"
      ]
     },
     "execution_count": 39,
     "metadata": {},
     "output_type": "execute_result"
    }
   ],
   "source": [
    "Solution.reorderLogFiles(logs)"
   ]
  }
 ],
 "metadata": {
  "kernelspec": {
   "display_name": "Python 3",
   "language": "python",
   "name": "python3"
  },
  "language_info": {
   "codemirror_mode": {
    "name": "ipython",
    "version": 3
   },
   "file_extension": ".py",
   "mimetype": "text/x-python",
   "name": "python",
   "nbconvert_exporter": "python",
   "pygments_lexer": "ipython3",
   "version": "3.8.5"
  }
 },
 "nbformat": 4,
 "nbformat_minor": 4
}
