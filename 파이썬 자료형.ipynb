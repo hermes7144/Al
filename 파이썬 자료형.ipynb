{
 "cells": [
  {
   "cell_type": "markdown",
   "metadata": {},
   "source": [
    "#### bool은 엄밀히 따지면 논리 자료형인데 파이썬에서는 내부적으로 1(True)과 0(False)으로 처리되는 int 서브 클래스다. int는 object의 하위 클래스이기 때문에 결국 다음과 같은 구조를 띤다.\n",
    "object > int > bool\n",
    "\n",
    "논리 자료형의 값인 True와 정수형의 값인 1을 비교해보면 다음과 같다.\n",
    "\n",
    "True == 1\n",
    "True\n",
    "\n",
    "False == 0\n",
    "True"
   ]
  },
  {
   "cell_type": "markdown",
   "metadata": {},
   "source": [
    "#### 매핑 자료형 딕셔너리"
   ]
  },
  {
   "cell_type": "markdown",
   "metadata": {},
   "source": [
    "#### 집합 \n",
    "\n",
    "파이썬의 집합 자료형이 set은 중복된 값을 갖지 않는 자료형이다. 파이썬에서 빈 집합은 다음과 같은 형태로 선언한다.\n",
    "\n",
    "a = set()\n",
    "<br>\n",
    "a\n",
    "\n",
    "set()\n",
    "<br>\n",
    "type(A)\n",
    "\n",
    "set은 입력 순서가 유지되지 않으며, 다음처럼 중복된 값이 있을 경우 하나의 값만 유지한다.\n"
   ]
  },
  {
   "cell_type": "code",
   "execution_count": 3,
   "metadata": {},
   "outputs": [
    {
     "data": {
      "text/plain": [
       "{2, 3, 4}"
      ]
     },
     "execution_count": 3,
     "metadata": {},
     "output_type": "execute_result"
    }
   ],
   "source": [
    "a = {3,2,4,4}\n",
    "a"
   ]
  },
  {
   "cell_type": "markdown",
   "metadata": {},
   "source": [
    "### 시퀀스\n",
    "시퀀스는 우리말로 하면 '수열' 같은 의미 어떤 특정 대상의 순서 있는 나열을 뜻한다. 예를 들어 srt은 문자의 순서 있는 나열로 문자열을 이루는 자료형이며, list는 다양한 값들을 배열 형태의 순서 있는 나열로 구성하는 자료형이다.배열이 없는 파이썬에서는 list라는 시퀀스 타입이 사실상 배열의 역할을 수행한다. 시퀀스는 불변과 가변으로 구분하는데 말 그대로 불변은 값을 변경할 수 없다. 여기에는 str, tuple, bytes가 해당된다."
   ]
  },
  {
   "cell_type": "code",
   "execution_count": 5,
   "metadata": {},
   "outputs": [
    {
     "name": "stdout",
     "output_type": "stream",
     "text": [
      "1703071891248\n",
      "1703071891248\n"
     ]
    }
   ],
   "source": [
    "a = 'abc'\n",
    "print(id('abc'))\n",
    "print(id(a))"
   ]
  },
  {
   "cell_type": "code",
   "execution_count": 6,
   "metadata": {},
   "outputs": [
    {
     "name": "stdout",
     "output_type": "stream",
     "text": [
      "1703073244400\n",
      "1703073244400\n"
     ]
    }
   ],
   "source": [
    "a = 'def'\n",
    "print(id('def'))\n",
    "print(id(a))"
   ]
  },
  {
   "cell_type": "markdown",
   "metadata": {},
   "source": [
    "각각의 메모리 주소를 출력해보면 a 변수는 처음에는 abc를 참조했다가(같은 주소) 이후에는 def를 참조하도록(같은 주소) 변경되었을 뿐이다. abc와 def는 생성된 후에 변하지 않고 메모리 어딘가에 남아 있다."
   ]
  },
  {
   "cell_type": "markdown",
   "metadata": {},
   "source": [
    "#### 객체\n",
    "파이썬은 모든 것이 객체다\n",
    "<br>\n",
    "\n",
    "|클래스|설명|불변 객체|\n",
    "|:---|:---|:---|\n",
    "|bool|부울|O|\n",
    "|int|정수|O|\n",
    "|float|실수|O|\n",
    "|list|리스트|X|\n",
    "|tuple|리스트와 튜플의 차이는 불변 여부이며 이외에는 거의 동일하다. 튜플은 불변이므로 생성할 때 설정한 값은 변경할 수 없다.|O|\n",
    "|str|문자|O|\n",
    "|set|중복된 값을 갖지 않는 집합 자료형|X|\n",
    "|dict|딕셔너리|X|\n"
   ]
  },
  {
   "cell_type": "code",
   "execution_count": 10,
   "metadata": {},
   "outputs": [
    {
     "data": {
      "text/plain": [
       "(140737389144160, 140737389144160, 140737389144160)"
      ]
     },
     "execution_count": 10,
     "metadata": {},
     "output_type": "execute_result"
    }
   ],
   "source": [
    "10\n",
    "a = 11\n",
    "b=a\n",
    "id(11), id(a), id(b)"
   ]
  },
  {
   "cell_type": "markdown",
   "metadata": {},
   "source": [
    "#### 파이썬의 비교 연산자 중  is와 ==가 있다. 이 둘의 관계는 파이썬의 객체 구조와 관련이 깊다. 먼저, is는 id() 값을 비교하는 함수다. None은 널(null)로서 값 자체가 정의되어 있지 않으므로 ==로 비교가 불가능하다. 따라서 다음과 같이 is로만 비교가 가능하다."
   ]
  },
  {
   "cell_type": "code",
   "execution_count": 11,
   "metadata": {},
   "outputs": [],
   "source": [
    "if a is None:\n",
    "    pass"
   ]
  },
  {
   "cell_type": "code",
   "execution_count": 14,
   "metadata": {},
   "outputs": [
    {
     "data": {
      "text/plain": [
       "True"
      ]
     },
     "execution_count": 14,
     "metadata": {},
     "output_type": "execute_result"
    }
   ],
   "source": [
    "a = [1,2,3]\n",
    "a == a"
   ]
  },
  {
   "cell_type": "code",
   "execution_count": 15,
   "metadata": {},
   "outputs": [
    {
     "data": {
      "text/plain": [
       "True"
      ]
     },
     "execution_count": 15,
     "metadata": {},
     "output_type": "execute_result"
    }
   ],
   "source": [
    "a == list(a)"
   ]
  },
  {
   "cell_type": "code",
   "execution_count": 16,
   "metadata": {},
   "outputs": [
    {
     "data": {
      "text/plain": [
       "True"
      ]
     },
     "execution_count": 16,
     "metadata": {},
     "output_type": "execute_result"
    }
   ],
   "source": [
    "a is a"
   ]
  },
  {
   "cell_type": "code",
   "execution_count": 19,
   "metadata": {},
   "outputs": [
    {
     "data": {
      "text/plain": [
       "False"
      ]
     },
     "execution_count": 19,
     "metadata": {},
     "output_type": "execute_result"
    }
   ],
   "source": [
    "a is list(a)"
   ]
  },
  {
   "cell_type": "code",
   "execution_count": 22,
   "metadata": {},
   "outputs": [
    {
     "data": {
      "text/plain": [
       "True"
      ]
     },
     "execution_count": 22,
     "metadata": {},
     "output_type": "execute_result"
    }
   ],
   "source": [
    "import copy\n",
    "a == copy.deepcopy(a)"
   ]
  },
  {
   "cell_type": "code",
   "execution_count": 23,
   "metadata": {},
   "outputs": [
    {
     "data": {
      "text/plain": [
       "False"
      ]
     },
     "execution_count": 23,
     "metadata": {},
     "output_type": "execute_result"
    }
   ],
   "source": [
    "a is copy.deepcopy(a)"
   ]
  },
  {
   "cell_type": "markdown",
   "metadata": {},
   "source": [
    "컴퓨터과학에서 자료구조란 데이터에 효율적으로 접근하고 조작하기 위한 데이터의 조직, 관리, 저장 구조를 말한다. 우리가 일반적으로 얘기하는 학문으로서의 자료구조를 일컫는다.\n",
    "\n",
    "보통 자료형과 자료구조를 많이 혼동하는데, 자료형이란 컴파일러 또는 인터프리터에게 프로그래머가 데이터를 어떻게 사용하는지를 알려주는 일종의 데이터 속성(Attribute)이다. 좀 더 쉽게 말하자면 자료형은 자료구조에 비해 훨씬 더 구체적이며, 특정 언어에서 자료형이라 함은 정수(Integer), 실수, 문자열 등 해당 언어에서 지원하는 원시자료형까지 포함하는 모든 자료의 유형을 말한다.\n",
    "\n",
    "자료구조는 일반적으로 원시 자료형을 기반으로 하는 배열, 연결 리스트, 객체 등을 말하며 자료형의 관점에서 보자면 여러 원시 자료형을 조합한 자료 구조는 복합 자료형이 된다."
   ]
  },
  {
   "cell_type": "code",
   "execution_count": null,
   "metadata": {},
   "outputs": [],
   "source": []
  },
  {
   "cell_type": "code",
   "execution_count": null,
   "metadata": {},
   "outputs": [],
   "source": []
  },
  {
   "cell_type": "code",
   "execution_count": null,
   "metadata": {},
   "outputs": [],
   "source": []
  },
  {
   "cell_type": "code",
   "execution_count": null,
   "metadata": {},
   "outputs": [],
   "source": []
  },
  {
   "cell_type": "code",
   "execution_count": null,
   "metadata": {},
   "outputs": [],
   "source": []
  },
  {
   "cell_type": "code",
   "execution_count": null,
   "metadata": {},
   "outputs": [],
   "source": []
  },
  {
   "cell_type": "code",
   "execution_count": null,
   "metadata": {},
   "outputs": [],
   "source": []
  },
  {
   "cell_type": "code",
   "execution_count": null,
   "metadata": {},
   "outputs": [],
   "source": []
  },
  {
   "cell_type": "code",
   "execution_count": null,
   "metadata": {},
   "outputs": [],
   "source": []
  }
 ],
 "metadata": {
  "kernelspec": {
   "display_name": "Python 3",
   "language": "python",
   "name": "python3"
  },
  "language_info": {
   "codemirror_mode": {
    "name": "ipython",
    "version": 3
   },
   "file_extension": ".py",
   "mimetype": "text/x-python",
   "name": "python",
   "nbconvert_exporter": "python",
   "pygments_lexer": "ipython3",
   "version": "3.8.5"
  }
 },
 "nbformat": 4,
 "nbformat_minor": 4
}
